{
 "cells": [
  {
   "cell_type": "code",
   "execution_count": 1,
   "metadata": {},
   "outputs": [],
   "source": [
    "import pandas as pd\n",
    "import numpy as np\n",
    "from sklearn.tree import DecisionTreeClassifier\n"
   ]
  },
  {
   "cell_type": "code",
   "execution_count": 2,
   "metadata": {},
   "outputs": [],
   "source": [
    "train_data=pd.read_csv(\"Titanic Forecast/data/train.csv\")\n",
    "# test_data=train_data['Survived']\n",
    "test_data=pd.read_csv(\"Titanic Forecast/data/test.csv\")"
   ]
  },
  {
   "cell_type": "code",
   "execution_count": 3,
   "metadata": {
    "scrolled": false
   },
   "outputs": [],
   "source": [
    "datasets=[train_data,test_data]"
   ]
  },
  {
   "cell_type": "code",
   "execution_count": 4,
   "metadata": {},
   "outputs": [],
   "source": [
    "clf=DecisionTreeClassifier()"
   ]
  },
  {
   "cell_type": "code",
   "execution_count": 5,
   "metadata": {
    "collapsed": true
   },
   "outputs": [
    {
     "name": "stdout",
     "output_type": "stream",
     "text": [
      "<class 'pandas.core.frame.DataFrame'>\n",
      "RangeIndex: 891 entries, 0 to 890\n",
      "Data columns (total 12 columns):\n",
      "PassengerId    891 non-null int64\n",
      "Survived       891 non-null int64\n",
      "Pclass         891 non-null int64\n",
      "Name           891 non-null object\n",
      "Sex            891 non-null object\n",
      "Age            714 non-null float64\n",
      "SibSp          891 non-null int64\n",
      "Parch          891 non-null int64\n",
      "Ticket         891 non-null object\n",
      "Fare           891 non-null float64\n",
      "Cabin          204 non-null object\n",
      "Embarked       889 non-null object\n",
      "dtypes: float64(2), int64(5), object(5)\n",
      "memory usage: 83.6+ KB\n"
     ]
    }
   ],
   "source": [
    "train_data[['PassengerId', 'Survived', 'Pclass', 'Name', 'Sex', 'Age', 'SibSp',\n",
    "       'Parch', 'Ticket', 'Fare', 'Cabin', 'Embarked']].info()"
   ]
  },
  {
   "cell_type": "code",
   "execution_count": 6,
   "metadata": {},
   "outputs": [],
   "source": [
    "#checking traindata is equal to the total size of datas or not"
   ]
  },
  {
   "cell_type": "code",
   "execution_count": 7,
   "metadata": {},
   "outputs": [],
   "source": [
    "for dataset in datasets:\n",
    "    np.unique(dataset['PassengerId'].values).size,np.unique(dataset['PassengerId'].values).size == dataset.shape[0]"
   ]
  },
  {
   "cell_type": "code",
   "execution_count": 8,
   "metadata": {},
   "outputs": [],
   "source": [
    "import re\n",
    "regular = re.compile('\\s(\\S+\\.)')\n",
    "designation_train = np.array([re.search(regular,i)[1] for i in train_data['Name'].values])\n",
    "designation_test = np.array([re.search(regular,i)[1] for i in test_data['Name'].values])\n"
   ]
  },
  {
   "cell_type": "code",
   "execution_count": 9,
   "metadata": {},
   "outputs": [],
   "source": [
    "train_data=train_data.drop('Name',axis=1)\n",
    "test_data=test_data.drop('Name',axis=1)"
   ]
  },
  {
   "cell_type": "code",
   "execution_count": 10,
   "metadata": {},
   "outputs": [],
   "source": [
    "Title=pd.DataFrame({\"Title\":designation_train})\n"
   ]
  },
  {
   "cell_type": "code",
   "execution_count": 11,
   "metadata": {},
   "outputs": [],
   "source": [
    "train_data = pd.concat([train_data, Title], axis=1)\n",
    "Title=pd.DataFrame({\"Title\":designation_test})\n",
    "test_data = pd.concat([test_data, Title], axis=1)"
   ]
  },
  {
   "cell_type": "code",
   "execution_count": 12,
   "metadata": {
    "collapsed": true
   },
   "outputs": [
    {
     "data": {
      "text/plain": [
       "Title\n",
       "Col.         2\n",
       "Dona.        1\n",
       "Dr.          1\n",
       "Master.     21\n",
       "Miss.       78\n",
       "Mr.        240\n",
       "Mrs.        72\n",
       "Ms.          1\n",
       "Rev.         2\n",
       "Name: Title, dtype: int64"
      ]
     },
     "execution_count": 12,
     "metadata": {},
     "output_type": "execute_result"
    }
   ],
   "source": [
    "train_data['Title'].groupby(train_data['Title']).size()\n",
    "test_data['Title'].groupby(test_data['Title']).size()"
   ]
  },
  {
   "cell_type": "code",
   "execution_count": 13,
   "metadata": {},
   "outputs": [],
   "source": [
    "train_data['Title'] = train_data['Title'].replace('Mlle.','Miss.')\n",
    "train_data['Title'] = train_data['Title'].replace('Ms.','Miss.')  \n",
    "train_data['Title'] = train_data['Title'].replace('Mme.','Mrs.')\n",
    "train_data['Title'] = train_data['Title'].replace(['Capt.','Col.','Major.'],'Army.')\n",
    "train_data['Title'] = train_data['Title'].replace(['Countess.','Don.','Jonkheer.','Lady.','Sir.'],'Noble.')\n",
    "test_data['Title'] = test_data['Title'].replace('Mlle.','Miss.')\n",
    "test_data['Title'] = test_data['Title'].replace('Ms.','Miss.')  \n",
    "test_data['Title'] = test_data['Title'].replace('Mme.','Mrs.')\n",
    "test_data['Title'] = test_data['Title'].replace(['Capt.','Col.','Major.'],'Army.')\n",
    "test_data['Title'] = test_data['Title'].replace(['Countess.','Don.','Jonkheer.','Lady.','Sir.'],'Noble.')"
   ]
  },
  {
   "cell_type": "code",
   "execution_count": 14,
   "metadata": {
    "collapsed": true
   },
   "outputs": [
    {
     "data": {
      "text/plain": [
       "Title\n",
       "Army.        5\n",
       "Dr.          7\n",
       "Master.     40\n",
       "Miss.      185\n",
       "Mr.        517\n",
       "Mrs.       126\n",
       "Noble.       5\n",
       "Rev.         6\n",
       "Name: Title, dtype: int64"
      ]
     },
     "execution_count": 14,
     "metadata": {},
     "output_type": "execute_result"
    }
   ],
   "source": [
    "train_data['Title'].groupby(train_data['Title']).size()"
   ]
  },
  {
   "cell_type": "code",
   "execution_count": 15,
   "metadata": {
    "collapsed": true
   },
   "outputs": [
    {
     "name": "stdout",
     "output_type": "stream",
     "text": [
      "Number of survival:\n",
      "\n",
      "         Survived\n",
      "Title            \n",
      "Army.    0.400000\n",
      "Dr.      0.428571\n",
      "Master.  0.575000\n",
      "Miss.    0.702703\n",
      "Mr.      0.156673\n",
      "Mrs.     0.793651\n",
      "Noble.   0.600000\n",
      "Rev.     0.000000\n"
     ]
    }
   ],
   "source": [
    "print('Number of survival:\\n\\n{}'.format(train_data[['Title','Survived']].groupby(train_data['Title']).mean()))\n"
   ]
  },
  {
   "cell_type": "code",
   "execution_count": 16,
   "metadata": {},
   "outputs": [],
   "source": [
    "train_data.drop('Ticket',axis=1,inplace=True)\n",
    "test_data.drop('Ticket',axis=1,inplace=True)"
   ]
  },
  {
   "cell_type": "code",
   "execution_count": 17,
   "metadata": {},
   "outputs": [],
   "source": [
    "train_data.set_index(['PassengerId'],inplace=True)\n",
    "test_data.set_index(['PassengerId'],inplace=True)"
   ]
  },
  {
   "cell_type": "code",
   "execution_count": 18,
   "metadata": {},
   "outputs": [],
   "source": [
    "def modify_cabin(cabin):\n",
    "    if pd.isnull(cabin):\n",
    "        cat = 'None'\n",
    "    else:\n",
    "        cat = cabin[0]\n",
    "    return cat"
   ]
  },
  {
   "cell_type": "code",
   "execution_count": 19,
   "metadata": {},
   "outputs": [],
   "source": [
    "cabin_category = np.array([modify_cabin(cab) for cab in train_data['Cabin'].values])\n",
    "cabin_category_test = np.array([modify_cabin(cab) for cab in test_data['Cabin'].values])"
   ]
  },
  {
   "cell_type": "code",
   "execution_count": 20,
   "metadata": {},
   "outputs": [],
   "source": [
    "train_data=train_data.assign(Cabs_Category=cabin_category)\n",
    "test_data=test_data.assign(Cabs_Category=cabin_category_test)\n"
   ]
  },
  {
   "cell_type": "code",
   "execution_count": 21,
   "metadata": {},
   "outputs": [],
   "source": [
    "train_data=train_data.drop('Cabin',axis=1)\n",
    "test_data=test_data.drop('Cabin',axis=1)\n"
   ]
  },
  {
   "cell_type": "code",
   "execution_count": 22,
   "metadata": {
    "collapsed": true
   },
   "outputs": [
    {
     "name": "stdout",
     "output_type": "stream",
     "text": [
      "no. of passengersCabs_Category\n",
      "A        15\n",
      "B        47\n",
      "C        59\n",
      "D        33\n",
      "E        32\n",
      "F        13\n",
      "G         4\n",
      "None    687\n",
      "T         1\n",
      "Name: Cabs_Category, dtype: int64\n"
     ]
    }
   ],
   "source": [
    "print(\"no. of passengers{}\".format(train_data['Cabs_Category'].groupby(train_data['Cabs_Category']).size()))"
   ]
  },
  {
   "cell_type": "code",
   "execution_count": 23,
   "metadata": {},
   "outputs": [],
   "source": [
    "survived_data = train_data.loc[train_data['Survived']==1,:]"
   ]
  },
  {
   "cell_type": "code",
   "execution_count": 24,
   "metadata": {},
   "outputs": [],
   "source": [
    "died_data=train_data.loc[train_data['Survived']==0,:]"
   ]
  },
  {
   "cell_type": "code",
   "execution_count": 25,
   "metadata": {},
   "outputs": [],
   "source": [
    "survived_male_data=survived_data.loc[survived_data['Sex']=='male']"
   ]
  },
  {
   "cell_type": "code",
   "execution_count": 26,
   "metadata": {},
   "outputs": [],
   "source": [
    "died_male_data=died_data.loc[died_data['Sex']=='male']"
   ]
  },
  {
   "cell_type": "code",
   "execution_count": 27,
   "metadata": {},
   "outputs": [],
   "source": [
    "survived_female_data=survived_data.loc[survived_data['Sex']=='female']"
   ]
  },
  {
   "cell_type": "code",
   "execution_count": 28,
   "metadata": {},
   "outputs": [],
   "source": [
    "died_female_data=died_data.loc[died_data['Sex']=='female']"
   ]
  },
  {
   "cell_type": "code",
   "execution_count": 29,
   "metadata": {
    "collapsed": true
   },
   "outputs": [
    {
     "data": {
      "text/plain": [
       "Sex\n",
       "male    109\n",
       "dtype: int64"
      ]
     },
     "execution_count": 29,
     "metadata": {},
     "output_type": "execute_result"
    }
   ],
   "source": [
    "survived_male_data.groupby(survived_male_data['Sex']).size()"
   ]
  },
  {
   "cell_type": "code",
   "execution_count": 30,
   "metadata": {
    "collapsed": true
   },
   "outputs": [
    {
     "data": {
      "text/plain": [
       "Sex\n",
       "female    233\n",
       "dtype: int64"
      ]
     },
     "execution_count": 30,
     "metadata": {},
     "output_type": "execute_result"
    }
   ],
   "source": [
    "survived_female_data.groupby(survived_female_data['Sex']).size()"
   ]
  },
  {
   "cell_type": "code",
   "execution_count": 31,
   "metadata": {
    "collapsed": true
   },
   "outputs": [
    {
     "data": {
      "text/plain": [
       "Sex\n",
       "male    468\n",
       "dtype: int64"
      ]
     },
     "execution_count": 31,
     "metadata": {},
     "output_type": "execute_result"
    }
   ],
   "source": [
    "died_male_data.groupby(died_male_data['Sex']).size()"
   ]
  },
  {
   "cell_type": "code",
   "execution_count": 32,
   "metadata": {
    "collapsed": true
   },
   "outputs": [
    {
     "data": {
      "text/plain": [
       "Sex\n",
       "female    81\n",
       "dtype: int64"
      ]
     },
     "execution_count": 32,
     "metadata": {},
     "output_type": "execute_result"
    }
   ],
   "source": [
    "died_female_data.groupby(died_female_data['Sex']).size()"
   ]
  },
  {
   "cell_type": "code",
   "execution_count": 33,
   "metadata": {},
   "outputs": [],
   "source": [
    "train_data[\"Age\"].fillna(train_data.groupby(\"Title\")[\"Age\"].transform(\"median\"), inplace=True)\n",
    "test_data[\"Age\"].fillna(test_data.groupby(\"Title\")[\"Age\"].transform(\"median\"), inplace=True)"
   ]
  },
  {
   "cell_type": "code",
   "execution_count": 34,
   "metadata": {},
   "outputs": [],
   "source": [
    "train_data[\"Age\"].fillna(train_data.groupby(\"Title\")[\"Age\"].transform(\"median\"), inplace=True)"
   ]
  },
  {
   "cell_type": "code",
   "execution_count": 35,
   "metadata": {},
   "outputs": [],
   "source": [
    "test_data[\"Age\"].fillna(test_data.groupby(\"Title\")[\"Age\"].transform(\"median\"), inplace=True)"
   ]
  },
  {
   "cell_type": "code",
   "execution_count": 36,
   "metadata": {
    "collapsed": true
   },
   "outputs": [
    {
     "name": "stdout",
     "output_type": "stream",
     "text": [
      "<class 'pandas.core.frame.DataFrame'>\n",
      "Int64Index: 891 entries, 1 to 891\n",
      "Data columns (total 4 columns):\n",
      "Sex              891 non-null object\n",
      "Embarked         889 non-null object\n",
      "Title            891 non-null object\n",
      "Cabs_Category    891 non-null object\n",
      "dtypes: object(4)\n",
      "memory usage: 74.8+ KB\n"
     ]
    }
   ],
   "source": [
    "train_data[['Sex','Embarked','Title','Cabs_Category']].info()"
   ]
  },
  {
   "cell_type": "code",
   "execution_count": 37,
   "metadata": {
    "collapsed": true
   },
   "outputs": [
    {
     "data": {
      "text/html": [
       "<div>\n",
       "<style scoped>\n",
       "    .dataframe tbody tr th:only-of-type {\n",
       "        vertical-align: middle;\n",
       "    }\n",
       "\n",
       "    .dataframe tbody tr th {\n",
       "        vertical-align: top;\n",
       "    }\n",
       "\n",
       "    .dataframe thead th {\n",
       "        text-align: right;\n",
       "    }\n",
       "</style>\n",
       "<table border=\"1\" class=\"dataframe\">\n",
       "  <thead>\n",
       "    <tr style=\"text-align: right;\">\n",
       "      <th></th>\n",
       "      <th>Survived</th>\n",
       "      <th>Pclass</th>\n",
       "      <th>Sex</th>\n",
       "      <th>Age</th>\n",
       "      <th>SibSp</th>\n",
       "      <th>Parch</th>\n",
       "      <th>Fare</th>\n",
       "      <th>Embarked</th>\n",
       "      <th>Title</th>\n",
       "      <th>Cabs_Category</th>\n",
       "    </tr>\n",
       "    <tr>\n",
       "      <th>PassengerId</th>\n",
       "      <th></th>\n",
       "      <th></th>\n",
       "      <th></th>\n",
       "      <th></th>\n",
       "      <th></th>\n",
       "      <th></th>\n",
       "      <th></th>\n",
       "      <th></th>\n",
       "      <th></th>\n",
       "      <th></th>\n",
       "    </tr>\n",
       "  </thead>\n",
       "  <tbody>\n",
       "    <tr>\n",
       "      <th>62</th>\n",
       "      <td>1</td>\n",
       "      <td>1</td>\n",
       "      <td>female</td>\n",
       "      <td>38.0</td>\n",
       "      <td>0</td>\n",
       "      <td>0</td>\n",
       "      <td>80.0</td>\n",
       "      <td>NaN</td>\n",
       "      <td>Miss.</td>\n",
       "      <td>B</td>\n",
       "    </tr>\n",
       "    <tr>\n",
       "      <th>830</th>\n",
       "      <td>1</td>\n",
       "      <td>1</td>\n",
       "      <td>female</td>\n",
       "      <td>62.0</td>\n",
       "      <td>0</td>\n",
       "      <td>0</td>\n",
       "      <td>80.0</td>\n",
       "      <td>NaN</td>\n",
       "      <td>Mrs.</td>\n",
       "      <td>B</td>\n",
       "    </tr>\n",
       "  </tbody>\n",
       "</table>\n",
       "</div>"
      ],
      "text/plain": [
       "             Survived  Pclass     Sex   Age  SibSp  Parch  Fare Embarked  \\\n",
       "PassengerId                                                                \n",
       "62                  1       1  female  38.0      0      0  80.0      NaN   \n",
       "830                 1       1  female  62.0      0      0  80.0      NaN   \n",
       "\n",
       "             Title Cabs_Category  \n",
       "PassengerId                       \n",
       "62           Miss.             B  \n",
       "830           Mrs.             B  "
      ]
     },
     "execution_count": 37,
     "metadata": {},
     "output_type": "execute_result"
    }
   ],
   "source": [
    "train_data.loc[pd.isnull(train_data['Embarked'])]"
   ]
  },
  {
   "cell_type": "code",
   "execution_count": 38,
   "metadata": {
    "collapsed": true
   },
   "outputs": [
    {
     "data": {
      "text/html": [
       "<div>\n",
       "<style scoped>\n",
       "    .dataframe tbody tr th:only-of-type {\n",
       "        vertical-align: middle;\n",
       "    }\n",
       "\n",
       "    .dataframe tbody tr th {\n",
       "        vertical-align: top;\n",
       "    }\n",
       "\n",
       "    .dataframe thead th {\n",
       "        text-align: right;\n",
       "    }\n",
       "</style>\n",
       "<table border=\"1\" class=\"dataframe\">\n",
       "  <thead>\n",
       "    <tr style=\"text-align: right;\">\n",
       "      <th></th>\n",
       "      <th>Pclass</th>\n",
       "      <th>Sex</th>\n",
       "      <th>Age</th>\n",
       "      <th>SibSp</th>\n",
       "      <th>Parch</th>\n",
       "      <th>Fare</th>\n",
       "      <th>Embarked</th>\n",
       "      <th>Title</th>\n",
       "      <th>Cabs_Category</th>\n",
       "    </tr>\n",
       "    <tr>\n",
       "      <th>PassengerId</th>\n",
       "      <th></th>\n",
       "      <th></th>\n",
       "      <th></th>\n",
       "      <th></th>\n",
       "      <th></th>\n",
       "      <th></th>\n",
       "      <th></th>\n",
       "      <th></th>\n",
       "      <th></th>\n",
       "    </tr>\n",
       "  </thead>\n",
       "  <tbody>\n",
       "  </tbody>\n",
       "</table>\n",
       "</div>"
      ],
      "text/plain": [
       "Empty DataFrame\n",
       "Columns: [Pclass, Sex, Age, SibSp, Parch, Fare, Embarked, Title, Cabs_Category]\n",
       "Index: []"
      ]
     },
     "execution_count": 38,
     "metadata": {},
     "output_type": "execute_result"
    }
   ],
   "source": [
    "test_data.loc[pd.isnull(test_data['Embarked'])]"
   ]
  },
  {
   "cell_type": "code",
   "execution_count": 39,
   "metadata": {
    "collapsed": true
   },
   "outputs": [
    {
     "name": "stdout",
     "output_type": "stream",
     "text": [
      "Classes of Sex feature:\n",
      "[0 1]\n",
      "['female' 'male']\n"
     ]
    }
   ],
   "source": [
    "from sklearn.preprocessing import LabelEncoder\n",
    "label_sex = LabelEncoder()\n",
    "sex_numerical = label_sex.fit_transform(train_data['Sex'])\n",
    "sex_numerical_classes = label_sex.classes_\n",
    "\n",
    "label_sex_test = LabelEncoder()\n",
    "sex_test_numerical = label_sex_test.fit_transform(test_data['Sex'])\n",
    "sex_test_numerical_classes = label_sex_test.classes_\n",
    "print('Classes of Sex feature:\\n{}\\n{}'.format(np.arange(len(sex_numerical_classes)),sex_numerical_classes))"
   ]
  },
  {
   "cell_type": "code",
   "execution_count": 40,
   "metadata": {
    "collapsed": true
   },
   "outputs": [
    {
     "name": "stdout",
     "output_type": "stream",
     "text": [
      "Classes of title feature:\n",
      "[0 1 2 3 4 5 6 7]\n",
      "['Army.' 'Dr.' 'Master.' 'Miss.' 'Mr.' 'Mrs.' 'Noble.' 'Rev.']\n"
     ]
    }
   ],
   "source": [
    "label_title = LabelEncoder()\n",
    "title_numerical = label_title.fit_transform(train_data['Title'])\n",
    "title_numerical_classes = label_title.classes_\n",
    "\n",
    "label_title_test = LabelEncoder()\n",
    "title_test_numerical = label_title_test.fit_transform(test_data['Title'])\n",
    "title_test_numerical_classes = label_title_test.classes_\n",
    "print('Classes of title feature:\\n{}\\n{}'.format(np.arange(len(title_numerical_classes)),title_numerical_classes))"
   ]
  },
  {
   "cell_type": "code",
   "execution_count": 41,
   "metadata": {
    "collapsed": true
   },
   "outputs": [
    {
     "name": "stdout",
     "output_type": "stream",
     "text": [
      "Classes of title feature:\n",
      "[0 1 2 3 4 5 6 7 8]\n",
      "['A' 'B' 'C' 'D' 'E' 'F' 'G' 'None' 'T']\n"
     ]
    }
   ],
   "source": [
    "label_Cabin = LabelEncoder()\n",
    "Cabin_numerical = label_Cabin.fit_transform(train_data['Cabs_Category'])\n",
    "Cabin_numerical_classes = label_Cabin.classes_\n",
    "\n",
    "label_Cabin_test = LabelEncoder()\n",
    "Cabin_test_numerical = label_Cabin_test.fit_transform(test_data['Cabs_Category'])\n",
    "Cabin_test_numerical_classes = label_Cabin_test.classes_\n",
    "print('Classes of title feature:\\n{}\\n{}'.format(np.arange(len(Cabin_numerical_classes)),Cabin_numerical_classes))"
   ]
  },
  {
   "cell_type": "code",
   "execution_count": 42,
   "metadata": {},
   "outputs": [],
   "source": [
    "from sklearn.preprocessing import OneHotEncoder"
   ]
  },
  {
   "cell_type": "code",
   "execution_count": 43,
   "metadata": {
    "collapsed": true
   },
   "outputs": [
    {
     "name": "stdout",
     "output_type": "stream",
     "text": [
      "[[ 0.  1.]\n",
      " [ 1.  0.]\n",
      " [ 1.  0.]\n",
      " ..., \n",
      " [ 1.  0.]\n",
      " [ 0.  1.]\n",
      " [ 0.  1.]]\n",
      "(891, 2)\n"
     ]
    }
   ],
   "source": [
    "encoder_Sex=OneHotEncoder(sparse=False)#will return array\n",
    "sex_onehot = encoder_Sex.fit_transform(sex_numerical.reshape(-1,1))\n",
    "\n",
    "encoder_Sex_test=OneHotEncoder(sparse=False)#will return array\n",
    "sex_test_onehot = encoder_Sex_test.fit_transform(sex_test_numerical.reshape(-1,1))\n",
    "print(sex_onehot)\n",
    "\n",
    "print(sex_onehot.shape)"
   ]
  },
  {
   "cell_type": "code",
   "execution_count": 44,
   "metadata": {
    "collapsed": true
   },
   "outputs": [
    {
     "name": "stdout",
     "output_type": "stream",
     "text": [
      "[[ 0.  0.  0. ...,  0.  0.  0.]\n",
      " [ 0.  0.  0. ...,  1.  0.  0.]\n",
      " [ 0.  0.  0. ...,  0.  0.  0.]\n",
      " ..., \n",
      " [ 0.  0.  0. ...,  0.  0.  0.]\n",
      " [ 0.  0.  0. ...,  0.  0.  0.]\n",
      " [ 0.  0.  0. ...,  0.  0.  0.]]\n",
      "(891, 8)\n"
     ]
    }
   ],
   "source": [
    "encoder_Title=OneHotEncoder(sparse=False)#will return array\n",
    "Title_onehot = encoder_Title.fit_transform(title_numerical.reshape(-1,1))\n",
    "encoder_Title_test=OneHotEncoder(sparse=False)#will return array\n",
    "Title_test_onehot = encoder_Title_test.fit_transform(title_test_numerical.reshape(-1,1))\n",
    "print(Title_onehot)\n",
    "print(Title_onehot.shape)"
   ]
  },
  {
   "cell_type": "code",
   "execution_count": 45,
   "metadata": {
    "collapsed": true
   },
   "outputs": [
    {
     "name": "stdout",
     "output_type": "stream",
     "text": [
      "[[ 0.  0.  0. ...,  0.  1.  0.]\n",
      " [ 0.  0.  1. ...,  0.  0.  0.]\n",
      " [ 0.  0.  0. ...,  0.  1.  0.]\n",
      " ..., \n",
      " [ 0.  0.  0. ...,  0.  1.  0.]\n",
      " [ 0.  0.  1. ...,  0.  0.  0.]\n",
      " [ 0.  0.  0. ...,  0.  1.  0.]]\n",
      "(891, 9)\n"
     ]
    }
   ],
   "source": [
    "encoder_Cabin=OneHotEncoder(sparse=False)\n",
    "Cabin_onehot=encoder_Cabin.fit_transform(Cabin_numerical.reshape(-1,1))\n",
    "\n",
    "encoder_Cabin_test=OneHotEncoder(sparse=False)\n",
    "Cabin_test_onehot=encoder_Cabin_test.fit_transform(Cabin_test_numerical.reshape(-1,1))\n",
    "print(Cabin_onehot)\n",
    "print(Cabin_onehot.shape)"
   ]
  },
  {
   "cell_type": "code",
   "execution_count": 46,
   "metadata": {},
   "outputs": [],
   "source": [
    "def oneHotLabels(train_data,column,onehot_labeled,class_labels):\n",
    "    new_assigns={}\n",
    "    for c_id,label in enumerate(class_labels):\n",
    "        new_assigns[column+'_'+label]=onehot_labeled[:,c_id]\n",
    "    train_data=train_data.assign(**new_assigns)\n",
    "    return train_data"
   ]
  },
  {
   "cell_type": "code",
   "execution_count": 47,
   "metadata": {},
   "outputs": [],
   "source": [
    "train_data=oneHotLabels(train_data,'Sex',sex_onehot,sex_numerical_classes)\n",
    "train_data=train_data.drop('Sex',axis=1)\n",
    "\n",
    "test_data=oneHotLabels(test_data,'Sex',sex_test_onehot,sex_test_numerical_classes)\n",
    "test_data=test_data.drop('Sex',axis=1)"
   ]
  },
  {
   "cell_type": "code",
   "execution_count": 48,
   "metadata": {},
   "outputs": [],
   "source": [
    "train_data=oneHotLabels(train_data,'Title',Title_onehot,title_numerical_classes)\n",
    "train_data=train_data.drop('Title',axis=1)\n",
    "\n",
    "test_data=oneHotLabels(test_data,'Title',Title_test_onehot,title_test_numerical_classes)\n",
    "test_data=test_data.drop('Title',axis=1)"
   ]
  },
  {
   "cell_type": "code",
   "execution_count": 49,
   "metadata": {},
   "outputs": [],
   "source": [
    "train_data=oneHotLabels(train_data,'Cabs_Category',Cabin_onehot,Cabin_numerical_classes)\n",
    "train_data=train_data.drop('Cabs_Category',axis=1)\n",
    "\n",
    "test_data=oneHotLabels(test_data,'Cabs_Category',Cabin_test_onehot,Cabin_test_numerical_classes)\n",
    "test_data=test_data.drop('Cabs_Category',axis=1)"
   ]
  },
  {
   "cell_type": "code",
   "execution_count": 50,
   "metadata": {},
   "outputs": [],
   "source": [
    "train_data['Fare'] = train_data['Fare'].fillna(train_data['Fare'].median())\n",
    "test_data['Fare'] = test_data['Fare'].fillna(test_data['Fare'].median())"
   ]
  },
  {
   "cell_type": "code",
   "execution_count": 51,
   "metadata": {
    "collapsed": true
   },
   "outputs": [
    {
     "name": "stdout",
     "output_type": "stream",
     "text": [
      "<class 'pandas.core.frame.DataFrame'>\n",
      "Int64Index: 891 entries, 1 to 891\n",
      "Data columns (total 26 columns):\n",
      "Survived              891 non-null int64\n",
      "Pclass                891 non-null int64\n",
      "Age                   891 non-null float64\n",
      "SibSp                 891 non-null int64\n",
      "Parch                 891 non-null int64\n",
      "Fare                  891 non-null float64\n",
      "Embarked              889 non-null object\n",
      "Sex_female            891 non-null float64\n",
      "Sex_male              891 non-null float64\n",
      "Title_Army.           891 non-null float64\n",
      "Title_Dr.             891 non-null float64\n",
      "Title_Master.         891 non-null float64\n",
      "Title_Miss.           891 non-null float64\n",
      "Title_Mr.             891 non-null float64\n",
      "Title_Mrs.            891 non-null float64\n",
      "Title_Noble.          891 non-null float64\n",
      "Title_Rev.            891 non-null float64\n",
      "Cabs_Category_A       891 non-null float64\n",
      "Cabs_Category_B       891 non-null float64\n",
      "Cabs_Category_C       891 non-null float64\n",
      "Cabs_Category_D       891 non-null float64\n",
      "Cabs_Category_E       891 non-null float64\n",
      "Cabs_Category_F       891 non-null float64\n",
      "Cabs_Category_G       891 non-null float64\n",
      "Cabs_Category_None    891 non-null float64\n",
      "Cabs_Category_T       891 non-null float64\n",
      "dtypes: float64(21), int64(4), object(1)\n",
      "memory usage: 187.9+ KB\n"
     ]
    }
   ],
   "source": [
    "train_data[['Survived', 'Pclass', 'Age', 'SibSp', 'Parch', 'Fare', 'Embarked',\n",
    "       'Sex_female', 'Sex_male', 'Title_Army.', 'Title_Dr.', 'Title_Master.',\n",
    "       'Title_Miss.', 'Title_Mr.', 'Title_Mrs.', 'Title_Noble.', 'Title_Rev.',\n",
    "       'Cabs_Category_A', 'Cabs_Category_B', 'Cabs_Category_C',\n",
    "       'Cabs_Category_D', 'Cabs_Category_E', 'Cabs_Category_F',\n",
    "       'Cabs_Category_G', 'Cabs_Category_None', 'Cabs_Category_T']].info()"
   ]
  },
  {
   "cell_type": "code",
   "execution_count": 52,
   "metadata": {},
   "outputs": [
    {
     "data": {
      "text/plain": [
       "644"
      ]
     },
     "execution_count": 52,
     "metadata": {},
     "output_type": "execute_result"
    }
   ],
   "source": [
    "train_data['Embarked'].value_counts().max()"
   ]
  },
  {
   "cell_type": "code",
   "execution_count": 53,
   "metadata": {},
   "outputs": [
    {
     "data": {
      "text/plain": [
       "'S'"
      ]
     },
     "execution_count": 53,
     "metadata": {},
     "output_type": "execute_result"
    }
   ],
   "source": [
    "train_data['Embarked'].value_counts().idxmax()"
   ]
  },
  {
   "cell_type": "code",
   "execution_count": 54,
   "metadata": {},
   "outputs": [],
   "source": [
    "train_data['Embarked'] = train_data['Embarked'].fillna(train_data['Embarked'].value_counts().idxmax())\n",
    "test_data['Embarked'] = test_data['Embarked'].fillna(test_data['Embarked'].value_counts().idxmax())"
   ]
  },
  {
   "cell_type": "code",
   "execution_count": 55,
   "metadata": {},
   "outputs": [],
   "source": [
    "train_data['Embarked']=train_data['Embarked'].map({'S':0,'C':1,'Q':2}).astype(int)\n",
    "test_data['Embarked']=test_data['Embarked'].map({'S':0,'C':1,'Q':2}).astype(int)"
   ]
  },
  {
   "cell_type": "code",
   "execution_count": 56,
   "metadata": {},
   "outputs": [],
   "source": [
    "train_data.loc[train_data['Fare']<=7.91,'Fare']=0\n",
    "train_data.loc[(train_data['Fare'] > 7.91) & (train_data['Fare'] <= 14.454), 'Fare'] = 1\n",
    "train_data.loc[(train_data['Fare'] > 14.454) & (train_data['Fare'] <= 31), 'Fare']   = 2\n",
    "train_data.loc[ train_data['Fare'] > 31, 'Fare'] = 3\n",
    "train_data['Fare'] = train_data['Fare'].astype(int)\n",
    "    \n",
    "test_data.loc[test_data['Fare']<=7.91,'Fare']=0\n",
    "test_data.loc[(test_data['Fare'] > 7.91) & (test_data['Fare'] <= 14.454), 'Fare'] = 1\n",
    "test_data.loc[(test_data['Fare'] > 14.454) & (test_data['Fare'] <= 31), 'Fare']   = 2\n",
    "test_data.loc[ test_data['Fare'] > 31, 'Fare'] = 3\n",
    "test_data['Fare'] = test_data['Fare'].astype(int)\n",
    "    "
   ]
  },
  {
   "cell_type": "code",
   "execution_count": 57,
   "metadata": {},
   "outputs": [],
   "source": [
    "train_data.loc[ train_data['Age'] <= 16, 'Age'] \t\t\t\t\t       = 0\n",
    "train_data.loc[(train_data['Age'] > 16) & (train_data['Age'] <= 32), 'Age'] = 1\n",
    "train_data.loc[(train_data['Age'] > 32) & (train_data['Age'] <= 48), 'Age'] = 2\n",
    "train_data.loc[(train_data['Age'] > 48) & (train_data['Age'] <= 64), 'Age'] = 3\n",
    "train_data.loc[ train_data['Age'] > 64, 'Age'] =4;\n",
    "\n",
    "test_data.loc[ test_data['Age'] <= 16, 'Age'] \t\t\t\t\t       = 0\n",
    "test_data.loc[(test_data['Age'] > 16) & (test_data['Age'] <= 32), 'Age'] = 1\n",
    "test_data.loc[(test_data['Age'] > 32) & (test_data['Age'] <= 48), 'Age'] = 2\n",
    "test_data.loc[(test_data['Age'] > 48) & (test_data['Age'] <= 64), 'Age'] = 3\n",
    "test_data.loc[ test_data['Age'] > 64, 'Age'] =4;"
   ]
  },
  {
   "cell_type": "code",
   "execution_count": 58,
   "metadata": {},
   "outputs": [],
   "source": [
    "train_data['FamilySize'] = train_data['SibSp'] + train_data['Parch'] + 1\n",
    "# Create new feature IsAlone from FamilySize\n",
    "train_data['IsAlone'] = 0\n",
    "train_data.loc[train_data['FamilySize'] == 1, 'IsAlone'] = 1\n",
    "\n",
    "test_data['FamilySize'] = test_data['SibSp'] + test_data['Parch'] + 1\n",
    "# Create new feature IsAlone from FamilySize\n",
    "test_data['IsAlone'] = 0\n",
    "test_data.loc[test_data['FamilySize'] == 1, 'IsAlone'] = 1"
   ]
  },
  {
   "cell_type": "code",
   "execution_count": 59,
   "metadata": {},
   "outputs": [],
   "source": [
    "train_data=train_data.drop(['SibSp'],axis=1)\n",
    "test_data=test_data.drop(['SibSp'],axis=1)"
   ]
  },
  {
   "cell_type": "code",
   "execution_count": 60,
   "metadata": {},
   "outputs": [],
   "source": [
    "train_data=train_data.drop(['Parch'],axis=1)\n",
    "test_data=test_data.drop(['Parch'],axis=1)"
   ]
  },
  {
   "cell_type": "code",
   "execution_count": 61,
   "metadata": {},
   "outputs": [],
   "source": [
    "#mean=survival rate\n",
    "#count=observation\n",
    "#sum=survived"
   ]
  },
  {
   "cell_type": "code",
   "execution_count": 62,
   "metadata": {
    "collapsed": true
   },
   "outputs": [
    {
     "data": {
      "text/html": [
       "<div>\n",
       "<style scoped>\n",
       "    .dataframe tbody tr th:only-of-type {\n",
       "        vertical-align: middle;\n",
       "    }\n",
       "\n",
       "    .dataframe tbody tr th {\n",
       "        vertical-align: top;\n",
       "    }\n",
       "\n",
       "    .dataframe thead tr th {\n",
       "        text-align: left;\n",
       "    }\n",
       "\n",
       "    .dataframe thead tr:last-of-type th {\n",
       "        text-align: right;\n",
       "    }\n",
       "</style>\n",
       "<table border=\"1\" class=\"dataframe\">\n",
       "  <thead>\n",
       "    <tr>\n",
       "      <th></th>\n",
       "      <th colspan=\"3\" halign=\"left\">Survived</th>\n",
       "    </tr>\n",
       "    <tr>\n",
       "      <th></th>\n",
       "      <th>mean</th>\n",
       "      <th>count</th>\n",
       "      <th>sum</th>\n",
       "    </tr>\n",
       "    <tr>\n",
       "      <th>Age</th>\n",
       "      <th></th>\n",
       "      <th></th>\n",
       "      <th></th>\n",
       "    </tr>\n",
       "  </thead>\n",
       "  <tbody>\n",
       "    <tr>\n",
       "      <th>0.0</th>\n",
       "      <td>0.548077</td>\n",
       "      <td>104</td>\n",
       "      <td>57</td>\n",
       "    </tr>\n",
       "    <tr>\n",
       "      <th>1.0</th>\n",
       "      <td>0.327345</td>\n",
       "      <td>501</td>\n",
       "      <td>164</td>\n",
       "    </tr>\n",
       "    <tr>\n",
       "      <th>2.0</th>\n",
       "      <td>0.436893</td>\n",
       "      <td>206</td>\n",
       "      <td>90</td>\n",
       "    </tr>\n",
       "    <tr>\n",
       "      <th>3.0</th>\n",
       "      <td>0.434783</td>\n",
       "      <td>69</td>\n",
       "      <td>30</td>\n",
       "    </tr>\n",
       "    <tr>\n",
       "      <th>4.0</th>\n",
       "      <td>0.090909</td>\n",
       "      <td>11</td>\n",
       "      <td>1</td>\n",
       "    </tr>\n",
       "  </tbody>\n",
       "</table>\n",
       "</div>"
      ],
      "text/plain": [
       "     Survived           \n",
       "         mean count  sum\n",
       "Age                     \n",
       "0.0  0.548077   104   57\n",
       "1.0  0.327345   501  164\n",
       "2.0  0.436893   206   90\n",
       "3.0  0.434783    69   30\n",
       "4.0  0.090909    11    1"
      ]
     },
     "execution_count": 62,
     "metadata": {},
     "output_type": "execute_result"
    }
   ],
   "source": [
    "train_data[['Age','Survived']].groupby(['Age']).agg(['mean','count','sum'])"
   ]
  },
  {
   "cell_type": "code",
   "execution_count": 63,
   "metadata": {
    "collapsed": true
   },
   "outputs": [
    {
     "data": {
      "text/html": [
       "<div>\n",
       "<style scoped>\n",
       "    .dataframe tbody tr th:only-of-type {\n",
       "        vertical-align: middle;\n",
       "    }\n",
       "\n",
       "    .dataframe tbody tr th {\n",
       "        vertical-align: top;\n",
       "    }\n",
       "\n",
       "    .dataframe thead tr th {\n",
       "        text-align: left;\n",
       "    }\n",
       "\n",
       "    .dataframe thead tr:last-of-type th {\n",
       "        text-align: right;\n",
       "    }\n",
       "</style>\n",
       "<table border=\"1\" class=\"dataframe\">\n",
       "  <thead>\n",
       "    <tr>\n",
       "      <th></th>\n",
       "      <th colspan=\"3\" halign=\"left\">Survived</th>\n",
       "    </tr>\n",
       "    <tr>\n",
       "      <th></th>\n",
       "      <th>mean</th>\n",
       "      <th>count</th>\n",
       "      <th>sum</th>\n",
       "    </tr>\n",
       "    <tr>\n",
       "      <th>Fare</th>\n",
       "      <th></th>\n",
       "      <th></th>\n",
       "      <th></th>\n",
       "    </tr>\n",
       "  </thead>\n",
       "  <tbody>\n",
       "    <tr>\n",
       "      <th>0</th>\n",
       "      <td>0.197309</td>\n",
       "      <td>223</td>\n",
       "      <td>44</td>\n",
       "    </tr>\n",
       "    <tr>\n",
       "      <th>1</th>\n",
       "      <td>0.308756</td>\n",
       "      <td>217</td>\n",
       "      <td>67</td>\n",
       "    </tr>\n",
       "    <tr>\n",
       "      <th>2</th>\n",
       "      <td>0.445415</td>\n",
       "      <td>229</td>\n",
       "      <td>102</td>\n",
       "    </tr>\n",
       "    <tr>\n",
       "      <th>3</th>\n",
       "      <td>0.581081</td>\n",
       "      <td>222</td>\n",
       "      <td>129</td>\n",
       "    </tr>\n",
       "  </tbody>\n",
       "</table>\n",
       "</div>"
      ],
      "text/plain": [
       "      Survived           \n",
       "          mean count  sum\n",
       "Fare                     \n",
       "0     0.197309   223   44\n",
       "1     0.308756   217   67\n",
       "2     0.445415   229  102\n",
       "3     0.581081   222  129"
      ]
     },
     "execution_count": 63,
     "metadata": {},
     "output_type": "execute_result"
    }
   ],
   "source": [
    "train_data[['Fare','Survived']].groupby(['Fare']).agg(['mean','count','sum'])"
   ]
  },
  {
   "cell_type": "code",
   "execution_count": 64,
   "metadata": {
    "collapsed": true
   },
   "outputs": [
    {
     "data": {
      "text/html": [
       "<div>\n",
       "<style scoped>\n",
       "    .dataframe tbody tr th:only-of-type {\n",
       "        vertical-align: middle;\n",
       "    }\n",
       "\n",
       "    .dataframe tbody tr th {\n",
       "        vertical-align: top;\n",
       "    }\n",
       "\n",
       "    .dataframe thead tr th {\n",
       "        text-align: left;\n",
       "    }\n",
       "\n",
       "    .dataframe thead tr:last-of-type th {\n",
       "        text-align: right;\n",
       "    }\n",
       "</style>\n",
       "<table border=\"1\" class=\"dataframe\">\n",
       "  <thead>\n",
       "    <tr>\n",
       "      <th></th>\n",
       "      <th colspan=\"3\" halign=\"left\">Survived</th>\n",
       "    </tr>\n",
       "    <tr>\n",
       "      <th></th>\n",
       "      <th>mean</th>\n",
       "      <th>count</th>\n",
       "      <th>sum</th>\n",
       "    </tr>\n",
       "    <tr>\n",
       "      <th>Embarked</th>\n",
       "      <th></th>\n",
       "      <th></th>\n",
       "      <th></th>\n",
       "    </tr>\n",
       "  </thead>\n",
       "  <tbody>\n",
       "    <tr>\n",
       "      <th>0</th>\n",
       "      <td>0.339009</td>\n",
       "      <td>646</td>\n",
       "      <td>219</td>\n",
       "    </tr>\n",
       "    <tr>\n",
       "      <th>1</th>\n",
       "      <td>0.553571</td>\n",
       "      <td>168</td>\n",
       "      <td>93</td>\n",
       "    </tr>\n",
       "    <tr>\n",
       "      <th>2</th>\n",
       "      <td>0.389610</td>\n",
       "      <td>77</td>\n",
       "      <td>30</td>\n",
       "    </tr>\n",
       "  </tbody>\n",
       "</table>\n",
       "</div>"
      ],
      "text/plain": [
       "          Survived           \n",
       "              mean count  sum\n",
       "Embarked                     \n",
       "0         0.339009   646  219\n",
       "1         0.553571   168   93\n",
       "2         0.389610    77   30"
      ]
     },
     "execution_count": 64,
     "metadata": {},
     "output_type": "execute_result"
    }
   ],
   "source": [
    "train_data[['Embarked','Survived']].groupby(['Embarked']).agg(['mean','count','sum'])"
   ]
  },
  {
   "cell_type": "code",
   "execution_count": 65,
   "metadata": {
    "collapsed": true
   },
   "outputs": [
    {
     "data": {
      "text/html": [
       "<div>\n",
       "<style scoped>\n",
       "    .dataframe tbody tr th:only-of-type {\n",
       "        vertical-align: middle;\n",
       "    }\n",
       "\n",
       "    .dataframe tbody tr th {\n",
       "        vertical-align: top;\n",
       "    }\n",
       "\n",
       "    .dataframe thead tr th {\n",
       "        text-align: left;\n",
       "    }\n",
       "\n",
       "    .dataframe thead tr:last-of-type th {\n",
       "        text-align: right;\n",
       "    }\n",
       "</style>\n",
       "<table border=\"1\" class=\"dataframe\">\n",
       "  <thead>\n",
       "    <tr>\n",
       "      <th></th>\n",
       "      <th colspan=\"3\" halign=\"left\">Survived</th>\n",
       "    </tr>\n",
       "    <tr>\n",
       "      <th></th>\n",
       "      <th>mean</th>\n",
       "      <th>count</th>\n",
       "      <th>sum</th>\n",
       "    </tr>\n",
       "    <tr>\n",
       "      <th>Pclass</th>\n",
       "      <th></th>\n",
       "      <th></th>\n",
       "      <th></th>\n",
       "    </tr>\n",
       "  </thead>\n",
       "  <tbody>\n",
       "    <tr>\n",
       "      <th>1</th>\n",
       "      <td>0.629630</td>\n",
       "      <td>216</td>\n",
       "      <td>136</td>\n",
       "    </tr>\n",
       "    <tr>\n",
       "      <th>2</th>\n",
       "      <td>0.472826</td>\n",
       "      <td>184</td>\n",
       "      <td>87</td>\n",
       "    </tr>\n",
       "    <tr>\n",
       "      <th>3</th>\n",
       "      <td>0.242363</td>\n",
       "      <td>491</td>\n",
       "      <td>119</td>\n",
       "    </tr>\n",
       "  </tbody>\n",
       "</table>\n",
       "</div>"
      ],
      "text/plain": [
       "        Survived           \n",
       "            mean count  sum\n",
       "Pclass                     \n",
       "1       0.629630   216  136\n",
       "2       0.472826   184   87\n",
       "3       0.242363   491  119"
      ]
     },
     "execution_count": 65,
     "metadata": {},
     "output_type": "execute_result"
    }
   ],
   "source": [
    "train_data[['Pclass','Survived']].groupby(['Pclass']).agg(['mean','count','sum'])"
   ]
  },
  {
   "cell_type": "code",
   "execution_count": 66,
   "metadata": {
    "collapsed": true
   },
   "outputs": [
    {
     "data": {
      "text/html": [
       "<div>\n",
       "<style scoped>\n",
       "    .dataframe tbody tr th:only-of-type {\n",
       "        vertical-align: middle;\n",
       "    }\n",
       "\n",
       "    .dataframe tbody tr th {\n",
       "        vertical-align: top;\n",
       "    }\n",
       "\n",
       "    .dataframe thead tr th {\n",
       "        text-align: left;\n",
       "    }\n",
       "\n",
       "    .dataframe thead tr:last-of-type th {\n",
       "        text-align: right;\n",
       "    }\n",
       "</style>\n",
       "<table border=\"1\" class=\"dataframe\">\n",
       "  <thead>\n",
       "    <tr>\n",
       "      <th></th>\n",
       "      <th colspan=\"3\" halign=\"left\">Survived</th>\n",
       "    </tr>\n",
       "    <tr>\n",
       "      <th></th>\n",
       "      <th>mean</th>\n",
       "      <th>count</th>\n",
       "      <th>sum</th>\n",
       "    </tr>\n",
       "    <tr>\n",
       "      <th>IsAlone</th>\n",
       "      <th></th>\n",
       "      <th></th>\n",
       "      <th></th>\n",
       "    </tr>\n",
       "  </thead>\n",
       "  <tbody>\n",
       "    <tr>\n",
       "      <th>0</th>\n",
       "      <td>0.505650</td>\n",
       "      <td>354</td>\n",
       "      <td>179</td>\n",
       "    </tr>\n",
       "    <tr>\n",
       "      <th>1</th>\n",
       "      <td>0.303538</td>\n",
       "      <td>537</td>\n",
       "      <td>163</td>\n",
       "    </tr>\n",
       "  </tbody>\n",
       "</table>\n",
       "</div>"
      ],
      "text/plain": [
       "         Survived           \n",
       "             mean count  sum\n",
       "IsAlone                     \n",
       "0        0.505650   354  179\n",
       "1        0.303538   537  163"
      ]
     },
     "execution_count": 66,
     "metadata": {},
     "output_type": "execute_result"
    }
   ],
   "source": [
    "train_data[['IsAlone','Survived']].groupby(['IsAlone']).agg(['mean','count','sum'])"
   ]
  },
  {
   "cell_type": "code",
   "execution_count": 67,
   "metadata": {
    "collapsed": true
   },
   "outputs": [
    {
     "name": "stdout",
     "output_type": "stream",
     "text": [
      "Classes of title feature:\n",
      "[0 1 2 3 4]\n",
      "[ 0.  1.  2.  3.  4.]\n"
     ]
    }
   ],
   "source": [
    "label_Age = LabelEncoder()\n",
    "Age_numerical = label_Age.fit_transform(train_data['Age'])\n",
    "Age_numerical_classes = label_Age.classes_\n",
    "\n",
    "label_Age_test = LabelEncoder()\n",
    "Age_test_numerical = label_Age_test.fit_transform(test_data['Age'])\n",
    "Age_test_numerical_classes = label_Age_test.classes_\n",
    "print('Classes of title feature:\\n{}\\n{}'.format(np.arange(len(Age_numerical_classes)),Age_numerical_classes))"
   ]
  },
  {
   "cell_type": "code",
   "execution_count": 68,
   "metadata": {
    "collapsed": true
   },
   "outputs": [
    {
     "name": "stdout",
     "output_type": "stream",
     "text": [
      "Classes of title feature:\n",
      "[0 1 2 3]\n",
      "[0 1 2 3]\n"
     ]
    }
   ],
   "source": [
    "label_Fare = LabelEncoder()\n",
    "Fare_numerical = label_Fare.fit_transform(train_data['Fare'])\n",
    "Fare_numerical_classes = label_Fare.classes_\n",
    "\n",
    "label_Fare_test = LabelEncoder()\n",
    "Fare_test_numerical = label_Fare_test.fit_transform(test_data['Fare'])\n",
    "Fare_test_numerical_classes = label_Fare_test.classes_\n",
    "print('Classes of title feature:\\n{}\\n{}'.format(np.arange(len(Fare_numerical_classes)),Fare_numerical_classes))"
   ]
  },
  {
   "cell_type": "code",
   "execution_count": 69,
   "metadata": {
    "collapsed": true
   },
   "outputs": [
    {
     "name": "stdout",
     "output_type": "stream",
     "text": [
      "Classes of title feature:\n",
      "[0 1 2]\n",
      "[0 1 2]\n"
     ]
    }
   ],
   "source": [
    "label_Embarked = LabelEncoder()\n",
    "Embarked_numerical = label_Embarked.fit_transform(train_data['Embarked'])\n",
    "Embarked_numerical_classes = label_Embarked.classes_\n",
    "\n",
    "label_test_Embarked = LabelEncoder()\n",
    "Embarked_test_numerical = label_test_Embarked.fit_transform(test_data['Embarked'])\n",
    "Embarked_test_numerical_classes = label_test_Embarked.classes_\n",
    "print('Classes of title feature:\\n{}\\n{}'.format(np.arange(len(Embarked_numerical_classes)),Embarked_numerical_classes))"
   ]
  },
  {
   "cell_type": "code",
   "execution_count": 70,
   "metadata": {
    "collapsed": true
   },
   "outputs": [
    {
     "name": "stdout",
     "output_type": "stream",
     "text": [
      "[[ 0.  1.  0.  0.  0.]\n",
      " [ 0.  0.  1.  0.  0.]\n",
      " [ 0.  1.  0.  0.  0.]\n",
      " ..., \n",
      " [ 0.  1.  0.  0.  0.]\n",
      " [ 0.  1.  0.  0.  0.]\n",
      " [ 0.  1.  0.  0.  0.]]\n",
      "(891, 5)\n"
     ]
    }
   ],
   "source": [
    "encoder_Age=OneHotEncoder(sparse=False)#will return array\n",
    "Age_onehot = encoder_Age.fit_transform(Age_numerical.reshape(-1,1))\n",
    "\n",
    "encoder_Age_test=OneHotEncoder(sparse=False)#will return array\n",
    "Age_test_onehot = encoder_Age_test.fit_transform(Age_test_numerical.reshape(-1,1))\n",
    "print(Age_onehot)\n",
    "print(Age_onehot.shape)"
   ]
  },
  {
   "cell_type": "code",
   "execution_count": 71,
   "metadata": {
    "collapsed": true
   },
   "outputs": [
    {
     "name": "stdout",
     "output_type": "stream",
     "text": [
      "[[ 1.  0.  0.  0.]\n",
      " [ 0.  0.  0.  1.]\n",
      " [ 0.  1.  0.  0.]\n",
      " ..., \n",
      " [ 0.  0.  1.  0.]\n",
      " [ 0.  0.  1.  0.]\n",
      " [ 1.  0.  0.  0.]]\n",
      "(891, 4)\n"
     ]
    }
   ],
   "source": [
    "encoder_Fare=OneHotEncoder(sparse=False)#will return array\n",
    "Fare_onehot = encoder_Fare.fit_transform(Fare_numerical.reshape(-1,1))\n",
    "encoder_Fare_test=OneHotEncoder(sparse=False)#will return array\n",
    "Fare_test_onehot = encoder_Fare_test.fit_transform(Fare_test_numerical.reshape(-1,1))\n",
    "print(Fare_onehot)\n",
    "print(Fare_onehot.shape)"
   ]
  },
  {
   "cell_type": "code",
   "execution_count": 72,
   "metadata": {
    "collapsed": true
   },
   "outputs": [
    {
     "name": "stdout",
     "output_type": "stream",
     "text": [
      "[[ 1.  0.  0.]\n",
      " [ 0.  1.  0.]\n",
      " [ 1.  0.  0.]\n",
      " ..., \n",
      " [ 1.  0.  0.]\n",
      " [ 0.  1.  0.]\n",
      " [ 0.  0.  1.]]\n",
      "(891, 3)\n"
     ]
    }
   ],
   "source": [
    "encoder_Embarked=OneHotEncoder(sparse=False)#will return array\n",
    "Embarked_onehot = encoder_Embarked.fit_transform(Embarked_numerical.reshape(-1,1))\n",
    "\n",
    "encoder_Embarked_test=OneHotEncoder(sparse=False)#will return array\n",
    "Embarked_test_onehot = encoder_Embarked_test.fit_transform(Embarked_test_numerical.reshape(-1,1))\n",
    "print(Embarked_onehot)\n",
    "print(Embarked_onehot.shape)"
   ]
  },
  {
   "cell_type": "code",
   "execution_count": 73,
   "metadata": {
    "collapsed": true
   },
   "outputs": [
    {
     "data": {
      "text/html": [
       "<div>\n",
       "<style scoped>\n",
       "    .dataframe tbody tr th:only-of-type {\n",
       "        vertical-align: middle;\n",
       "    }\n",
       "\n",
       "    .dataframe tbody tr th {\n",
       "        vertical-align: top;\n",
       "    }\n",
       "\n",
       "    .dataframe thead th {\n",
       "        text-align: right;\n",
       "    }\n",
       "</style>\n",
       "<table border=\"1\" class=\"dataframe\">\n",
       "  <thead>\n",
       "    <tr style=\"text-align: right;\">\n",
       "      <th></th>\n",
       "      <th>Survived</th>\n",
       "      <th>Pclass</th>\n",
       "      <th>Age</th>\n",
       "      <th>Fare</th>\n",
       "      <th>Embarked</th>\n",
       "      <th>Sex_female</th>\n",
       "      <th>Sex_male</th>\n",
       "      <th>Title_Army.</th>\n",
       "      <th>Title_Dr.</th>\n",
       "      <th>Title_Master.</th>\n",
       "      <th>...</th>\n",
       "      <th>Cabs_Category_B</th>\n",
       "      <th>Cabs_Category_C</th>\n",
       "      <th>Cabs_Category_D</th>\n",
       "      <th>Cabs_Category_E</th>\n",
       "      <th>Cabs_Category_F</th>\n",
       "      <th>Cabs_Category_G</th>\n",
       "      <th>Cabs_Category_None</th>\n",
       "      <th>Cabs_Category_T</th>\n",
       "      <th>FamilySize</th>\n",
       "      <th>IsAlone</th>\n",
       "    </tr>\n",
       "    <tr>\n",
       "      <th>PassengerId</th>\n",
       "      <th></th>\n",
       "      <th></th>\n",
       "      <th></th>\n",
       "      <th></th>\n",
       "      <th></th>\n",
       "      <th></th>\n",
       "      <th></th>\n",
       "      <th></th>\n",
       "      <th></th>\n",
       "      <th></th>\n",
       "      <th></th>\n",
       "      <th></th>\n",
       "      <th></th>\n",
       "      <th></th>\n",
       "      <th></th>\n",
       "      <th></th>\n",
       "      <th></th>\n",
       "      <th></th>\n",
       "      <th></th>\n",
       "      <th></th>\n",
       "      <th></th>\n",
       "    </tr>\n",
       "  </thead>\n",
       "  <tbody>\n",
       "    <tr>\n",
       "      <th>1</th>\n",
       "      <td>0</td>\n",
       "      <td>3</td>\n",
       "      <td>1.0</td>\n",
       "      <td>0</td>\n",
       "      <td>0</td>\n",
       "      <td>0.0</td>\n",
       "      <td>1.0</td>\n",
       "      <td>0.0</td>\n",
       "      <td>0.0</td>\n",
       "      <td>0.0</td>\n",
       "      <td>...</td>\n",
       "      <td>0.0</td>\n",
       "      <td>0.0</td>\n",
       "      <td>0.0</td>\n",
       "      <td>0.0</td>\n",
       "      <td>0.0</td>\n",
       "      <td>0.0</td>\n",
       "      <td>1.0</td>\n",
       "      <td>0.0</td>\n",
       "      <td>2</td>\n",
       "      <td>0</td>\n",
       "    </tr>\n",
       "    <tr>\n",
       "      <th>2</th>\n",
       "      <td>1</td>\n",
       "      <td>1</td>\n",
       "      <td>2.0</td>\n",
       "      <td>3</td>\n",
       "      <td>1</td>\n",
       "      <td>1.0</td>\n",
       "      <td>0.0</td>\n",
       "      <td>0.0</td>\n",
       "      <td>0.0</td>\n",
       "      <td>0.0</td>\n",
       "      <td>...</td>\n",
       "      <td>0.0</td>\n",
       "      <td>1.0</td>\n",
       "      <td>0.0</td>\n",
       "      <td>0.0</td>\n",
       "      <td>0.0</td>\n",
       "      <td>0.0</td>\n",
       "      <td>0.0</td>\n",
       "      <td>0.0</td>\n",
       "      <td>2</td>\n",
       "      <td>0</td>\n",
       "    </tr>\n",
       "    <tr>\n",
       "      <th>3</th>\n",
       "      <td>1</td>\n",
       "      <td>3</td>\n",
       "      <td>1.0</td>\n",
       "      <td>1</td>\n",
       "      <td>0</td>\n",
       "      <td>1.0</td>\n",
       "      <td>0.0</td>\n",
       "      <td>0.0</td>\n",
       "      <td>0.0</td>\n",
       "      <td>0.0</td>\n",
       "      <td>...</td>\n",
       "      <td>0.0</td>\n",
       "      <td>0.0</td>\n",
       "      <td>0.0</td>\n",
       "      <td>0.0</td>\n",
       "      <td>0.0</td>\n",
       "      <td>0.0</td>\n",
       "      <td>1.0</td>\n",
       "      <td>0.0</td>\n",
       "      <td>1</td>\n",
       "      <td>1</td>\n",
       "    </tr>\n",
       "    <tr>\n",
       "      <th>4</th>\n",
       "      <td>1</td>\n",
       "      <td>1</td>\n",
       "      <td>2.0</td>\n",
       "      <td>3</td>\n",
       "      <td>0</td>\n",
       "      <td>1.0</td>\n",
       "      <td>0.0</td>\n",
       "      <td>0.0</td>\n",
       "      <td>0.0</td>\n",
       "      <td>0.0</td>\n",
       "      <td>...</td>\n",
       "      <td>0.0</td>\n",
       "      <td>1.0</td>\n",
       "      <td>0.0</td>\n",
       "      <td>0.0</td>\n",
       "      <td>0.0</td>\n",
       "      <td>0.0</td>\n",
       "      <td>0.0</td>\n",
       "      <td>0.0</td>\n",
       "      <td>2</td>\n",
       "      <td>0</td>\n",
       "    </tr>\n",
       "    <tr>\n",
       "      <th>5</th>\n",
       "      <td>0</td>\n",
       "      <td>3</td>\n",
       "      <td>2.0</td>\n",
       "      <td>1</td>\n",
       "      <td>0</td>\n",
       "      <td>0.0</td>\n",
       "      <td>1.0</td>\n",
       "      <td>0.0</td>\n",
       "      <td>0.0</td>\n",
       "      <td>0.0</td>\n",
       "      <td>...</td>\n",
       "      <td>0.0</td>\n",
       "      <td>0.0</td>\n",
       "      <td>0.0</td>\n",
       "      <td>0.0</td>\n",
       "      <td>0.0</td>\n",
       "      <td>0.0</td>\n",
       "      <td>1.0</td>\n",
       "      <td>0.0</td>\n",
       "      <td>1</td>\n",
       "      <td>1</td>\n",
       "    </tr>\n",
       "  </tbody>\n",
       "</table>\n",
       "<p>5 rows × 26 columns</p>\n",
       "</div>"
      ],
      "text/plain": [
       "             Survived  Pclass  Age  Fare  Embarked  Sex_female  Sex_male  \\\n",
       "PassengerId                                                                \n",
       "1                   0       3  1.0     0         0         0.0       1.0   \n",
       "2                   1       1  2.0     3         1         1.0       0.0   \n",
       "3                   1       3  1.0     1         0         1.0       0.0   \n",
       "4                   1       1  2.0     3         0         1.0       0.0   \n",
       "5                   0       3  2.0     1         0         0.0       1.0   \n",
       "\n",
       "             Title_Army.  Title_Dr.  Title_Master.   ...     Cabs_Category_B  \\\n",
       "PassengerId                                          ...                       \n",
       "1                    0.0        0.0            0.0   ...                 0.0   \n",
       "2                    0.0        0.0            0.0   ...                 0.0   \n",
       "3                    0.0        0.0            0.0   ...                 0.0   \n",
       "4                    0.0        0.0            0.0   ...                 0.0   \n",
       "5                    0.0        0.0            0.0   ...                 0.0   \n",
       "\n",
       "             Cabs_Category_C  Cabs_Category_D  Cabs_Category_E  \\\n",
       "PassengerId                                                      \n",
       "1                        0.0              0.0              0.0   \n",
       "2                        1.0              0.0              0.0   \n",
       "3                        0.0              0.0              0.0   \n",
       "4                        1.0              0.0              0.0   \n",
       "5                        0.0              0.0              0.0   \n",
       "\n",
       "             Cabs_Category_F  Cabs_Category_G  Cabs_Category_None  \\\n",
       "PassengerId                                                         \n",
       "1                        0.0              0.0                 1.0   \n",
       "2                        0.0              0.0                 0.0   \n",
       "3                        0.0              0.0                 1.0   \n",
       "4                        0.0              0.0                 0.0   \n",
       "5                        0.0              0.0                 1.0   \n",
       "\n",
       "             Cabs_Category_T  FamilySize  IsAlone  \n",
       "PassengerId                                        \n",
       "1                        0.0           2        0  \n",
       "2                        0.0           2        0  \n",
       "3                        0.0           1        1  \n",
       "4                        0.0           2        0  \n",
       "5                        0.0           1        1  \n",
       "\n",
       "[5 rows x 26 columns]"
      ]
     },
     "execution_count": 73,
     "metadata": {},
     "output_type": "execute_result"
    }
   ],
   "source": [
    "train_data.head(5)"
   ]
  },
  {
   "cell_type": "code",
   "execution_count": 74,
   "metadata": {},
   "outputs": [],
   "source": [
    "def oneHotLabel(train_data,column,onehot_labeled,class_labels):\n",
    "    new_assigns={}\n",
    "    for c_id,label in enumerate(class_labels):\n",
    "        print(column)\n",
    "        print(label)\n",
    "        print(class_labels)\n",
    "#         print(onehot_labeled[:,c_id])\n",
    "        print(c_id,label)\n",
    "        new_assigns[column+'_'+str(label)]=onehot_labeled[:,c_id]\n",
    "    train_data=train_data.assign(**new_assigns)\n",
    "    return train_data"
   ]
  },
  {
   "cell_type": "code",
   "execution_count": 75,
   "metadata": {
    "collapsed": true
   },
   "outputs": [
    {
     "name": "stdout",
     "output_type": "stream",
     "text": [
      "Age\n",
      "0.0\n",
      "[ 0.  1.  2.  3.  4.]\n",
      "0 0.0\n",
      "Age\n",
      "1.0\n",
      "[ 0.  1.  2.  3.  4.]\n",
      "1 1.0\n",
      "Age\n",
      "2.0\n",
      "[ 0.  1.  2.  3.  4.]\n",
      "2 2.0\n",
      "Age\n",
      "3.0\n",
      "[ 0.  1.  2.  3.  4.]\n",
      "3 3.0\n",
      "Age\n",
      "4.0\n",
      "[ 0.  1.  2.  3.  4.]\n",
      "4 4.0\n"
     ]
    }
   ],
   "source": [
    "train_data=oneHotLabel(train_data,'Age',Age_onehot,Age_numerical_classes)#age_onehot=1 0 0 #age_numerical_class=0 1 2\n",
    "train_data=train_data.drop('Age',axis=1)\n",
    "\n"
   ]
  },
  {
   "cell_type": "code",
   "execution_count": 76,
   "metadata": {},
   "outputs": [
    {
     "name": "stdout",
     "output_type": "stream",
     "text": [
      "Age\n",
      "0.0\n",
      "[ 0.  1.  2.  3.  4.]\n",
      "0 0.0\n",
      "Age\n",
      "1.0\n",
      "[ 0.  1.  2.  3.  4.]\n",
      "1 1.0\n",
      "Age\n",
      "2.0\n",
      "[ 0.  1.  2.  3.  4.]\n",
      "2 2.0\n",
      "Age\n",
      "3.0\n",
      "[ 0.  1.  2.  3.  4.]\n",
      "3 3.0\n",
      "Age\n",
      "4.0\n",
      "[ 0.  1.  2.  3.  4.]\n",
      "4 4.0\n"
     ]
    }
   ],
   "source": [
    "test_data=oneHotLabel(test_data,'Age',Age_test_onehot,Age_test_numerical_classes)#age_onehot=1 0 0 #age_numerical_class=0 1 2\n",
    "test_data=test_data.drop('Age',axis=1)"
   ]
  },
  {
   "cell_type": "code",
   "execution_count": 77,
   "metadata": {
    "scrolled": true
   },
   "outputs": [
    {
     "data": {
      "text/html": [
       "<div>\n",
       "<style scoped>\n",
       "    .dataframe tbody tr th:only-of-type {\n",
       "        vertical-align: middle;\n",
       "    }\n",
       "\n",
       "    .dataframe tbody tr th {\n",
       "        vertical-align: top;\n",
       "    }\n",
       "\n",
       "    .dataframe thead th {\n",
       "        text-align: right;\n",
       "    }\n",
       "</style>\n",
       "<table border=\"1\" class=\"dataframe\">\n",
       "  <thead>\n",
       "    <tr style=\"text-align: right;\">\n",
       "      <th></th>\n",
       "      <th>Survived</th>\n",
       "      <th>Pclass</th>\n",
       "      <th>Fare</th>\n",
       "      <th>Embarked</th>\n",
       "      <th>Sex_female</th>\n",
       "      <th>Sex_male</th>\n",
       "      <th>Title_Army.</th>\n",
       "      <th>Title_Dr.</th>\n",
       "      <th>Title_Master.</th>\n",
       "      <th>Title_Miss.</th>\n",
       "      <th>...</th>\n",
       "      <th>Cabs_Category_G</th>\n",
       "      <th>Cabs_Category_None</th>\n",
       "      <th>Cabs_Category_T</th>\n",
       "      <th>FamilySize</th>\n",
       "      <th>IsAlone</th>\n",
       "      <th>Age_0.0</th>\n",
       "      <th>Age_1.0</th>\n",
       "      <th>Age_2.0</th>\n",
       "      <th>Age_3.0</th>\n",
       "      <th>Age_4.0</th>\n",
       "    </tr>\n",
       "    <tr>\n",
       "      <th>PassengerId</th>\n",
       "      <th></th>\n",
       "      <th></th>\n",
       "      <th></th>\n",
       "      <th></th>\n",
       "      <th></th>\n",
       "      <th></th>\n",
       "      <th></th>\n",
       "      <th></th>\n",
       "      <th></th>\n",
       "      <th></th>\n",
       "      <th></th>\n",
       "      <th></th>\n",
       "      <th></th>\n",
       "      <th></th>\n",
       "      <th></th>\n",
       "      <th></th>\n",
       "      <th></th>\n",
       "      <th></th>\n",
       "      <th></th>\n",
       "      <th></th>\n",
       "      <th></th>\n",
       "    </tr>\n",
       "  </thead>\n",
       "  <tbody>\n",
       "  </tbody>\n",
       "</table>\n",
       "<p>0 rows × 30 columns</p>\n",
       "</div>"
      ],
      "text/plain": [
       "Empty DataFrame\n",
       "Columns: [Survived, Pclass, Fare, Embarked, Sex_female, Sex_male, Title_Army., Title_Dr., Title_Master., Title_Miss., Title_Mr., Title_Mrs., Title_Noble., Title_Rev., Cabs_Category_A, Cabs_Category_B, Cabs_Category_C, Cabs_Category_D, Cabs_Category_E, Cabs_Category_F, Cabs_Category_G, Cabs_Category_None, Cabs_Category_T, FamilySize, IsAlone, Age_0.0, Age_1.0, Age_2.0, Age_3.0, Age_4.0]\n",
       "Index: []\n",
       "\n",
       "[0 rows x 30 columns]"
      ]
     },
     "execution_count": 77,
     "metadata": {},
     "output_type": "execute_result"
    }
   ],
   "source": [
    "train_data.head(0)"
   ]
  },
  {
   "cell_type": "code",
   "execution_count": 78,
   "metadata": {},
   "outputs": [
    {
     "name": "stdout",
     "output_type": "stream",
     "text": [
      "Fare\n",
      "0\n",
      "[0 1 2 3]\n",
      "0 0\n",
      "Fare\n",
      "1\n",
      "[0 1 2 3]\n",
      "1 1\n",
      "Fare\n",
      "2\n",
      "[0 1 2 3]\n",
      "2 2\n",
      "Fare\n",
      "3\n",
      "[0 1 2 3]\n",
      "3 3\n",
      "Fare\n",
      "0\n",
      "[0 1 2 3]\n",
      "0 0\n",
      "Fare\n",
      "1\n",
      "[0 1 2 3]\n",
      "1 1\n",
      "Fare\n",
      "2\n",
      "[0 1 2 3]\n",
      "2 2\n",
      "Fare\n",
      "3\n",
      "[0 1 2 3]\n",
      "3 3\n"
     ]
    }
   ],
   "source": [
    "train_data=oneHotLabel(train_data,'Fare',Fare_onehot,Fare_numerical_classes)#age_onehot=1 0 0 #age_numerical_class=0 1 2\n",
    "train_data=train_data.drop('Fare',axis=1)\n",
    "\n",
    "test_data=oneHotLabel(test_data,'Fare',Fare_test_onehot,Fare_test_numerical_classes)#age_onehot=1 0 0 #age_numerical_class=0 1 2\n",
    "test_data=test_data.drop('Fare',axis=1)"
   ]
  },
  {
   "cell_type": "code",
   "execution_count": 79,
   "metadata": {},
   "outputs": [
    {
     "name": "stdout",
     "output_type": "stream",
     "text": [
      "Embarked\n",
      "0\n",
      "[0 1 2]\n",
      "0 0\n",
      "Embarked\n",
      "1\n",
      "[0 1 2]\n",
      "1 1\n",
      "Embarked\n",
      "2\n",
      "[0 1 2]\n",
      "2 2\n",
      "Embarked\n",
      "0\n",
      "[0 1 2]\n",
      "0 0\n",
      "Embarked\n",
      "1\n",
      "[0 1 2]\n",
      "1 1\n",
      "Embarked\n",
      "2\n",
      "[0 1 2]\n",
      "2 2\n"
     ]
    }
   ],
   "source": [
    "train_data=oneHotLabel(train_data,'Embarked',Embarked_onehot,Embarked_numerical_classes)#age_onehot=1 0 0 #age_numerical_class=0 1 2\n",
    "train_data=train_data.drop('Embarked',axis=1)\n",
    "\n",
    "test_data=oneHotLabel(test_data,'Embarked',Embarked_test_onehot,Embarked_test_numerical_classes)#age_onehot=1 0 0 #age_numerical_class=0 1 2\n",
    "test_data=test_data.drop('Embarked',axis=1)"
   ]
  },
  {
   "cell_type": "code",
   "execution_count": 80,
   "metadata": {},
   "outputs": [],
   "source": [
    "train_data_columns=train_data.drop('Survived',axis=1)\n",
    "pred_data=train_data['Survived']"
   ]
  },
  {
   "cell_type": "code",
   "execution_count": 81,
   "metadata": {},
   "outputs": [],
   "source": [
    "train_data=train_data_columns.drop(['Title_Noble.','Cabs_Category_T'],axis=1)\n",
    "\n",
    "test_data=test_data.drop(['Title_Dona.'],axis=1)"
   ]
  },
  {
   "cell_type": "code",
   "execution_count": 82,
   "metadata": {},
   "outputs": [
    {
     "data": {
      "text/plain": [
       "DecisionTreeClassifier(class_weight=None, criterion='gini', max_depth=None,\n",
       "            max_features=None, max_leaf_nodes=None,\n",
       "            min_impurity_decrease=0.0, min_impurity_split=None,\n",
       "            min_samples_leaf=1, min_samples_split=2,\n",
       "            min_weight_fraction_leaf=0.0, presort=False, random_state=None,\n",
       "            splitter='best')"
      ]
     },
     "execution_count": 82,
     "metadata": {},
     "output_type": "execute_result"
    }
   ],
   "source": [
    "\n",
    "X=train_data\n",
    "Y=pred_data\n",
    "clf=DecisionTreeClassifier()\n",
    "clf.fit(X,Y)"
   ]
  },
  {
   "cell_type": "code",
   "execution_count": 83,
   "metadata": {},
   "outputs": [],
   "source": [
    "predictions1=clf.predict(test_data)"
   ]
  },
  {
   "cell_type": "code",
   "execution_count": 84,
   "metadata": {},
   "outputs": [
    {
     "data": {
      "text/plain": [
       "0.90909090909090906"
      ]
     },
     "execution_count": 84,
     "metadata": {},
     "output_type": "execute_result"
    }
   ],
   "source": [
    "clf.score(X,Y)"
   ]
  },
  {
   "cell_type": "code",
   "execution_count": 85,
   "metadata": {},
   "outputs": [],
   "source": [
    "def kgl_submit_csv(df,predictions,savename=\"titanic.csv\",save=False):#default [parameter in last]\n",
    "    print(\"Number of predictions:\",len(predictions))\n",
    "    print(\"Number of passengers\",len(df.index.values))\n",
    "    kgl_df=pd.DataFrame({\n",
    "        \"PassengerId\":df.index.values,\n",
    "        \"Survived\":predictions\n",
    "    })\n",
    "    print(save)\n",
    "    if save:\n",
    "        kgl_df.to_csv(savename,index=False)\n",
    "    return kgl_df"
   ]
  },
  {
   "cell_type": "code",
   "execution_count": 86,
   "metadata": {},
   "outputs": [
    {
     "name": "stdout",
     "output_type": "stream",
     "text": [
      "Number of predictions: 418\n",
      "Number of passengers 418\n",
      "True\n"
     ]
    }
   ],
   "source": [
    "a=kgl_submit_csv(test_data,predictions1,save=True)"
   ]
  },
  {
   "cell_type": "code",
   "execution_count": null,
   "metadata": {},
   "outputs": [],
   "source": []
  }
 ],
 "metadata": {
  "kernelspec": {
   "display_name": "Python 3",
   "language": "python",
   "name": "python3"
  },
  "language_info": {
   "codemirror_mode": {
    "name": "ipython",
    "version": 3
   },
   "file_extension": ".py",
   "mimetype": "text/x-python",
   "name": "python",
   "nbconvert_exporter": "python",
   "pygments_lexer": "ipython3",
   "version": "3.6.4"
  }
 },
 "nbformat": 4,
 "nbformat_minor": 2
}
